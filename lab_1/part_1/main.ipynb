{
 "cells": [
  {
   "cell_type": "code",
   "execution_count": 6,
   "metadata": {},
   "outputs": [],
   "source": [
    "from bs4 import BeautifulSoup\n",
    "import requests"
   ]
  },
  {
   "cell_type": "code",
   "execution_count": 7,
   "metadata": {},
   "outputs": [],
   "source": [
    "url = 'https://lb.ua/politics/newsfeed'\n",
    "params = {\n",
    "    'page': 0\n",
    "}\n",
    "\n",
    "date = '16 лютого'"
   ]
  },
  {
   "cell_type": "code",
   "execution_count": 8,
   "metadata": {},
   "outputs": [],
   "source": [
    "while True: # find news by date\n",
    "    r = requests.get(url, params)\n",
    "    soup = BeautifulSoup(r.content, 'html.parser')\n",
    "\n",
    "    dates = {\n",
    "        date.text.split(', ')[1].lower()\n",
    "        for date in soup.findAll('li', {'class': 'caption list-item-caption'})\n",
    "    }\n",
    "\n",
    "    if date in dates:\n",
    "        break\n",
    "\n",
    "    params['page'] += 1"
   ]
  },
  {
   "cell_type": "code",
   "execution_count": 9,
   "metadata": {},
   "outputs": [
    {
     "name": "stdout",
     "output_type": "stream",
     "text": [
      "https://lb.ua/news/2024/02/16/598878_ukraina_pidpisala_dvostoronnyu_ugodu.html\n",
      "https://lb.ua/news/2024/02/16/598867_zelenskiy_pribuv_parizha.html\n",
      "https://lb.ua/news/2024/02/16/598852_zelenskiy_i_prezident_nimechchini.html\n",
      "https://lb.ua/news/2024/02/16/598846_mzs_nazvalo_nepriynyatnimi.html\n"
     ]
    }
   ],
   "source": [
    "lenta = soup.find('ul', {'class': 'lenta'})\n",
    "lenta = lenta.find_all('li')\n",
    "news_links = []\n",
    "save_news = False\n",
    "\n",
    "for item in lenta:\n",
    "    if 'adv-block' in item['class']:\n",
    "        continue\n",
    "\n",
    "    if 'caption' in item['class']:\n",
    "        if date in item.text.lower():\n",
    "            save_news = True # start saving news for the date\n",
    "        elif save_news:\n",
    "            break\n",
    "        continue\n",
    "\n",
    "    if save_news:\n",
    "        new_url = item.find('div', {'class': 'title'}).findChild(\"a\")['href']\n",
    "        news_links.append(new_url)\n",
    "\n",
    "for link in news_links:\n",
    "    print(link)"
   ]
  },
  {
   "cell_type": "code",
   "execution_count": null,
   "metadata": {},
   "outputs": [],
   "source": []
  },
  {
   "cell_type": "code",
   "execution_count": null,
   "metadata": {},
   "outputs": [],
   "source": [
    "def parse_new(url: str = 'https://lb.ua/news/2024/02/15/598655_iermak_obgovoriv_iz_radnikom.html'):\n",
    "    r = requests.get(url)\n",
    "    soup = BeautifulSoup(r.content, 'html.parser')\n",
    "    print(soup)\n",
    "    article = soup.find('h1', {'itemprop': 'headline'}).text\n",
    "    header = soup.find('div', {'itemprop': 'description'}).find('p').text\n",
    "    all_text = soup.find('div', {'itemprop': 'articleBody'}).text\n",
    "    return {\n",
    "        \"article\": article,\n",
    "        \"link\": url,\n",
    "        \"header\": header,\n",
    "        \"text\": 'all_text',\n",
    "        \"header_ner\": [\n",
    "            [\n",
    "                \"Україна\",\n",
    "                \"LOC\"\n",
    "            ]\n",
    "        ],\n",
    "        \"text_ner\": [\n",
    "            [\n",
    "                \"України\",\n",
    "                \"LOC\"\n",
    "            ]\n",
    "        ]\n",
    "    }"
   ]
  }
 ],
 "metadata": {
  "kernelspec": {
   "display_name": "study",
   "language": "python",
   "name": "python3"
  },
  "language_info": {
   "codemirror_mode": {
    "name": "ipython",
    "version": 3
   },
   "file_extension": ".py",
   "mimetype": "text/x-python",
   "name": "python",
   "nbconvert_exporter": "python",
   "pygments_lexer": "ipython3",
   "version": "3.10.13"
  }
 },
 "nbformat": 4,
 "nbformat_minor": 2
}
